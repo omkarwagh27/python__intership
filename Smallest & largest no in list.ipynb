{
 "cells": [
  {
   "cell_type": "markdown",
   "id": "6d418aed",
   "metadata": {},
   "source": [
    "# Find smallest & largest no in a list"
   ]
  },
  {
   "cell_type": "code",
   "execution_count": 8,
   "id": "60184533",
   "metadata": {},
   "outputs": [
    {
     "name": "stdout",
     "output_type": "stream",
     "text": [
      "smallest element is : 3\n"
     ]
    }
   ],
   "source": [
    "list =  [20,30,3,100,125,200]\n",
    "print(\"smallest element is :\",min(list))"
   ]
  },
  {
   "cell_type": "code",
   "execution_count": 9,
   "id": "fab9789e",
   "metadata": {},
   "outputs": [
    {
     "name": "stdout",
     "output_type": "stream",
     "text": [
      "largest element is : 200\n"
     ]
    }
   ],
   "source": [
    "list =  [20,30,3,100,125,200]\n",
    "print(\"largest element is :\",max(list))"
   ]
  },
  {
   "cell_type": "code",
   "execution_count": 10,
   "id": "57966c48",
   "metadata": {},
   "outputs": [],
   "source": [
    "#####another one method"
   ]
  },
  {
   "cell_type": "code",
   "execution_count": 20,
   "id": "115fdd1f",
   "metadata": {},
   "outputs": [
    {
     "name": "stdout",
     "output_type": "stream",
     "text": [
      "[3, 20, 30, 100, 125, 200]\n",
      "smallest element is : 3\n",
      "largest element is : 200\n"
     ]
    }
   ],
   "source": [
    "list =  [20,30,3,100,125,200]\n",
    "list.sort()\n",
    "print(list)\n",
    "print(\"smallest element is :\",list[0])\n",
    "print(\"largest element is :\",list[-1])\n",
    "\n"
   ]
  },
  {
   "cell_type": "code",
   "execution_count": null,
   "id": "b8faa7f9",
   "metadata": {},
   "outputs": [],
   "source": []
  },
  {
   "cell_type": "code",
   "execution_count": null,
   "id": "db0a6f4e",
   "metadata": {},
   "outputs": [],
   "source": []
  }
 ],
 "metadata": {
  "kernelspec": {
   "display_name": "Python 3 (ipykernel)",
   "language": "python",
   "name": "python3"
  },
  "language_info": {
   "codemirror_mode": {
    "name": "ipython",
    "version": 3
   },
   "file_extension": ".py",
   "mimetype": "text/x-python",
   "name": "python",
   "nbconvert_exporter": "python",
   "pygments_lexer": "ipython3",
   "version": "3.10.1"
  }
 },
 "nbformat": 4,
 "nbformat_minor": 5
}
