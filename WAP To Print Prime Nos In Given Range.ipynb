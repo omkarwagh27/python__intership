{
 "cells": [
  {
   "cell_type": "markdown",
   "id": "0c5a2c80",
   "metadata": {},
   "source": [
    "#### WAP To Print Prime Nos In Given Range"
   ]
  },
  {
   "cell_type": "code",
   "execution_count": 8,
   "id": "2fa18c8c",
   "metadata": {},
   "outputs": [
    {
     "name": "stdout",
     "output_type": "stream",
     "text": [
      "Enter start :1\n",
      "Enter end :100\n"
     ]
    }
   ],
   "source": [
    "start = int(input(\"Enter start :\"))\n",
    "end = int(input(\"Enter end :\"))\n"
   ]
  },
  {
   "cell_type": "code",
   "execution_count": 10,
   "id": "798a0cfe",
   "metadata": {},
   "outputs": [
    {
     "name": "stdout",
     "output_type": "stream",
     "text": [
      "2\n",
      "3\n",
      "5\n",
      "7\n",
      "11\n",
      "13\n",
      "17\n",
      "19\n",
      "23\n",
      "29\n",
      "31\n",
      "37\n",
      "41\n",
      "43\n",
      "47\n",
      "53\n",
      "59\n",
      "61\n",
      "67\n",
      "71\n",
      "73\n",
      "79\n",
      "83\n",
      "89\n",
      "97\n"
     ]
    }
   ],
   "source": [
    "for x in range(start,end):\n",
    "    if x > 1:\n",
    "        for y in range(2,x):\n",
    "            if x%y==0:\n",
    "                break\n",
    "        else:\n",
    "            print(x)"
   ]
  },
  {
   "cell_type": "code",
   "execution_count": null,
   "id": "3d183cdf",
   "metadata": {},
   "outputs": [],
   "source": []
  }
 ],
 "metadata": {
  "kernelspec": {
   "display_name": "Python 3 (ipykernel)",
   "language": "python",
   "name": "python3"
  },
  "language_info": {
   "codemirror_mode": {
    "name": "ipython",
    "version": 3
   },
   "file_extension": ".py",
   "mimetype": "text/x-python",
   "name": "python",
   "nbconvert_exporter": "python",
   "pygments_lexer": "ipython3",
   "version": "3.10.1"
  }
 },
 "nbformat": 4,
 "nbformat_minor": 5
}
