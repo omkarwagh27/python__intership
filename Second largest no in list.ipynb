{
 "cells": [
  {
   "cell_type": "markdown",
   "id": "3e3ee7e5",
   "metadata": {},
   "source": [
    "# find Second largest no in list"
   ]
  },
  {
   "cell_type": "code",
   "execution_count": 4,
   "id": "8f149cda",
   "metadata": {},
   "outputs": [
    {
     "name": "stdout",
     "output_type": "stream",
     "text": [
      "second largest no : 102\n"
     ]
    }
   ],
   "source": [
    "list = [12,102,65,201,45,89]\n",
    "list.sort()\n",
    "print(\"second largest no :\",list[-2])"
   ]
  },
  {
   "cell_type": "code",
   "execution_count": null,
   "id": "5b2909e4",
   "metadata": {},
   "outputs": [],
   "source": []
  }
 ],
 "metadata": {
  "kernelspec": {
   "display_name": "Python 3 (ipykernel)",
   "language": "python",
   "name": "python3"
  },
  "language_info": {
   "codemirror_mode": {
    "name": "ipython",
    "version": 3
   },
   "file_extension": ".py",
   "mimetype": "text/x-python",
   "name": "python",
   "nbconvert_exporter": "python",
   "pygments_lexer": "ipython3",
   "version": "3.10.1"
  }
 },
 "nbformat": 4,
 "nbformat_minor": 5
}
