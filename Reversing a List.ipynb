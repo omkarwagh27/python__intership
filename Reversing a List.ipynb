{
 "cells": [
  {
   "cell_type": "markdown",
   "id": "519c2319",
   "metadata": {},
   "source": [
    "#### Reversing a List"
   ]
  },
  {
   "cell_type": "code",
   "execution_count": 4,
   "id": "159ea5a5",
   "metadata": {},
   "outputs": [
    {
     "name": "stdout",
     "output_type": "stream",
     "text": [
      "[5, 4, 3, 2, 1]\n"
     ]
    }
   ],
   "source": [
    "def reverse(list):\n",
    "    list.reverse()\n",
    "    return list\n",
    "list = [1,2,3,4,5]\n",
    "print(reverse(list))"
   ]
  },
  {
   "cell_type": "code",
   "execution_count": null,
   "id": "6f5b520d",
   "metadata": {},
   "outputs": [],
   "source": []
  }
 ],
 "metadata": {
  "kernelspec": {
   "display_name": "Python 3 (ipykernel)",
   "language": "python",
   "name": "python3"
  },
  "language_info": {
   "codemirror_mode": {
    "name": "ipython",
    "version": 3
   },
   "file_extension": ".py",
   "mimetype": "text/x-python",
   "name": "python",
   "nbconvert_exporter": "python",
   "pygments_lexer": "ipython3",
   "version": "3.10.1"
  }
 },
 "nbformat": 4,
 "nbformat_minor": 5
}
